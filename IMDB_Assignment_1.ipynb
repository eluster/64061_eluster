{
  "nbformat": 4,
  "nbformat_minor": 0,
  "metadata": {
    "colab": {
      "name": "IMDB Assignment 1.ipynb",
      "provenance": [],
      "collapsed_sections": []
    },
    "kernelspec": {
      "name": "ir",
      "display_name": "R"
    },
    "language_info": {
      "name": "R"
    }
  },
  "cells": [
    {
      "cell_type": "markdown",
      "metadata": {
        "id": "dxekAgLnaD_y"
      },
      "source": [
        "**Assignment 1: Neural Networks**\n",
        "\n",
        "Ethan Luster\n",
        "\n",
        "Course 64041\n",
        "\n",
        "\n"
      ]
    },
    {
      "cell_type": "code",
      "metadata": {
        "id": "SV4Dpk5feb2x",
        "colab": {
          "base_uri": "https://localhost:8080/"
        },
        "outputId": "a1695b2f-a2d3-487f-9201-fbcefe113873"
      },
      "source": [
        "install.packages(\"keras\")\n",
        "library(keras)\n",
        "imdb <- dataset_imdb(num_words = 10000)\n",
        "c(c(train_data, train_labels), c(test_data, test_labels)) %<-% imdb"
      ],
      "execution_count": 1,
      "outputs": [
        {
          "output_type": "stream",
          "name": "stderr",
          "text": [
            "Installing package into ‘/usr/local/lib/R/site-library’\n",
            "(as ‘lib’ is unspecified)\n",
            "\n",
            "also installing the dependencies ‘here’, ‘png’, ‘config’, ‘tfautograph’, ‘reticulate’, ‘tensorflow’, ‘tfruns’, ‘zeallot’\n",
            "\n",
            "\n"
          ]
        }
      ]
    },
    {
      "cell_type": "code",
      "metadata": {
        "id": "KWVe7fcvJY18"
      },
      "source": [
        "# Data Preperation\n",
        "vectorize_sequences <- function(sequences, dimension = 10000) {\n",
        "results <- matrix(0, nrow = length(sequences), ncol = dimension)\n",
        "for (i in 1:length(sequences))\n",
        "results[i, sequences[[i]]] <- 1\n",
        "results\n",
        "}\n",
        "x_train <- vectorize_sequences(train_data)\n",
        "x_test <- vectorize_sequences(test_data)\n",
        "y_train <- as.numeric(train_labels)\n",
        "y_test <- as.numeric(test_labels)"
      ],
      "execution_count": 2,
      "outputs": []
    },
    {
      "cell_type": "code",
      "metadata": {
        "id": "al2KBBj1JY-o",
        "colab": {
          "base_uri": "https://localhost:8080/",
          "height": 34
        },
        "outputId": "fe62d077-1ead-4d80-a0a6-484ff9b84586"
      },
      "source": [
        "# Base Model\n",
        "model <- keras_model_sequential() %>%\n",
        "layer_dense(units = 16, activation = \"relu\", input_shape = c(10000)) %>%\n",
        "layer_dense(units = 16, activation = \"relu\") %>%\n",
        "layer_dense(units = 1, activation = \"sigmoid\")\n",
        "\n",
        "model %>% compile(\n",
        "optimizer = \"rmsprop\",\n",
        "loss = \"binary_crossentropy\",\n",
        "metrics = c(\"accuracy\")\n",
        ")\n",
        "\n",
        "model %>% fit(x_train, y_train, epochs = 4, batch_size = 512)\n",
        "results <- model %>% evaluate(x_test, y_test)\n",
        "results\n",
        "\n"
      ],
      "execution_count": 3,
      "outputs": [
        {
          "output_type": "display_data",
          "data": {
            "text/plain": [
              "     loss  accuracy \n",
              "0.3073569 0.8782800 "
            ],
            "text/latex": "\\begin{description*}\n\\item[loss] 0.307356864213943\n\\item[accuracy] 0.878279983997345\n\\end{description*}\n",
            "text/markdown": "loss\n:   0.307356864213943accuracy\n:   0.878279983997345\n\n",
            "text/html": [
              "<style>\n",
              ".dl-inline {width: auto; margin:0; padding: 0}\n",
              ".dl-inline>dt, .dl-inline>dd {float: none; width: auto; display: inline-block}\n",
              ".dl-inline>dt::after {content: \":\\0020\"; padding-right: .5ex}\n",
              ".dl-inline>dt:not(:first-of-type) {padding-left: .5ex}\n",
              "</style><dl class=dl-inline><dt>loss</dt><dd>0.307356864213943</dd><dt>accuracy</dt><dd>0.878279983997345</dd></dl>\n"
            ]
          },
          "metadata": {}
        }
      ]
    },
    {
      "cell_type": "code",
      "metadata": {
        "id": "85GzCu8p2e9N",
        "colab": {
          "base_uri": "https://localhost:8080/",
          "height": 34
        },
        "outputId": "c6feced9-5bf4-4dc3-de7c-69efbdfe4b32"
      },
      "source": [
        "# Part 1. Model with 3 hidden layers\n",
        "model <- keras_model_sequential() %>%\n",
        "layer_dense(units = 16, activation = \"relu\", input_shape = c(10000)) %>%\n",
        "layer_dense(units = 16, activation = \"relu\", input_shape = c(10000)) %>%\n",
        "layer_dense(units = 16, activation = \"relu\") %>%\n",
        "layer_dense(units = 1, activation = \"sigmoid\")\n",
        "model %>% compile(\n",
        "optimizer = \"rmsprop\",\n",
        "loss = \"binary_crossentropy\",\n",
        "metrics = c(\"accuracy\")\n",
        ")\n",
        "model %>% fit(x_train, y_train, epochs = 4, batch_size = 512)\n",
        "results <- model %>% evaluate(x_test, y_test)\n",
        "results\n"
      ],
      "execution_count": 4,
      "outputs": [
        {
          "output_type": "display_data",
          "data": {
            "text/plain": [
              "     loss  accuracy \n",
              "0.3219818 0.8736000 "
            ],
            "text/latex": "\\begin{description*}\n\\item[loss] 0.321981817483902\n\\item[accuracy] 0.873600006103516\n\\end{description*}\n",
            "text/markdown": "loss\n:   0.321981817483902accuracy\n:   0.873600006103516\n\n",
            "text/html": [
              "<style>\n",
              ".dl-inline {width: auto; margin:0; padding: 0}\n",
              ".dl-inline>dt, .dl-inline>dd {float: none; width: auto; display: inline-block}\n",
              ".dl-inline>dt::after {content: \":\\0020\"; padding-right: .5ex}\n",
              ".dl-inline>dt:not(:first-of-type) {padding-left: .5ex}\n",
              "</style><dl class=dl-inline><dt>loss</dt><dd>0.321981817483902</dd><dt>accuracy</dt><dd>0.873600006103516</dd></dl>\n"
            ]
          },
          "metadata": {}
        }
      ]
    },
    {
      "cell_type": "code",
      "metadata": {
        "id": "plP-F7G5Itnt",
        "colab": {
          "base_uri": "https://localhost:8080/",
          "height": 34
        },
        "outputId": "4877cad5-2f94-45ea-ecdd-93349f6e3e33"
      },
      "source": [
        "# Part 2. Model with 32 units rather than 16\n",
        "model <- keras_model_sequential() %>%\n",
        "layer_dense(units = 32, activation = \"relu\", input_shape = c(10000)) %>%\n",
        "layer_dense(units = 32, activation = \"relu\") %>%\n",
        "layer_dense(units = 1, activation = \"sigmoid\")\n",
        "model %>% compile(\n",
        "optimizer = \"rmsprop\",\n",
        "loss = \"binary_crossentropy\",\n",
        "metrics = c(\"accuracy\")\n",
        ")\n",
        "model %>% fit(x_train, y_train, epochs = 4, batch_size = 512)\n",
        "results <- model %>% evaluate(x_test, y_test)\n",
        "results\n",
        "\n"
      ],
      "execution_count": 8,
      "outputs": [
        {
          "output_type": "display_data",
          "data": {
            "text/plain": [
              "     loss  accuracy \n",
              "0.3201935 0.8775200 "
            ],
            "text/latex": "\\begin{description*}\n\\item[loss] 0.320193499326706\n\\item[accuracy] 0.877520024776459\n\\end{description*}\n",
            "text/markdown": "loss\n:   0.320193499326706accuracy\n:   0.877520024776459\n\n",
            "text/html": [
              "<style>\n",
              ".dl-inline {width: auto; margin:0; padding: 0}\n",
              ".dl-inline>dt, .dl-inline>dd {float: none; width: auto; display: inline-block}\n",
              ".dl-inline>dt::after {content: \":\\0020\"; padding-right: .5ex}\n",
              ".dl-inline>dt:not(:first-of-type) {padding-left: .5ex}\n",
              "</style><dl class=dl-inline><dt>loss</dt><dd>0.320193499326706</dd><dt>accuracy</dt><dd>0.877520024776459</dd></dl>\n"
            ]
          },
          "metadata": {}
        }
      ]
    },
    {
      "cell_type": "code",
      "metadata": {
        "id": "iMCpGkKQIt6C",
        "colab": {
          "base_uri": "https://localhost:8080/",
          "height": 34
        },
        "outputId": "5d02f090-2ce7-4aba-dd3a-6767b22fd3e5"
      },
      "source": [
        "# Part 3. Model with MSE loss rather than binary crossentropy\n",
        "model <- keras_model_sequential() %>%\n",
        "layer_dense(units = 16, activation = \"relu\", input_shape = c(10000)) %>%\n",
        "layer_dense(units = 16, activation = \"relu\", input_shape = c(10000)) %>%\n",
        "layer_dense(units = 1, activation = \"sigmoid\")\n",
        "model %>% compile(\n",
        "optimizer = \"rmsprop\",\n",
        "loss = \"mse\",\n",
        "metrics = c(\"accuracy\")\n",
        ")\n",
        "model %>% fit(x_train, y_train, epochs = 4, batch_size = 512)\n",
        "results <- model %>% evaluate(x_test, y_test)\n",
        "results\n",
        "\n"
      ],
      "execution_count": 9,
      "outputs": [
        {
          "output_type": "display_data",
          "data": {
            "text/plain": [
              "      loss   accuracy \n",
              "0.09043519 0.87796003 "
            ],
            "text/latex": "\\begin{description*}\n\\item[loss] 0.090435191988945\n\\item[accuracy] 0.877960026264191\n\\end{description*}\n",
            "text/markdown": "loss\n:   0.090435191988945accuracy\n:   0.877960026264191\n\n",
            "text/html": [
              "<style>\n",
              ".dl-inline {width: auto; margin:0; padding: 0}\n",
              ".dl-inline>dt, .dl-inline>dd {float: none; width: auto; display: inline-block}\n",
              ".dl-inline>dt::after {content: \":\\0020\"; padding-right: .5ex}\n",
              ".dl-inline>dt:not(:first-of-type) {padding-left: .5ex}\n",
              "</style><dl class=dl-inline><dt>loss</dt><dd>0.090435191988945</dd><dt>accuracy</dt><dd>0.877960026264191</dd></dl>\n"
            ]
          },
          "metadata": {}
        }
      ]
    },
    {
      "cell_type": "code",
      "metadata": {
        "id": "2uE8qLhVIuU-",
        "colab": {
          "base_uri": "https://localhost:8080/",
          "height": 34
        },
        "outputId": "b7a3ac09-0bbb-46bb-d2ff-a28459a89814"
      },
      "source": [
        "# Part 4. TANH model\n",
        "model <- keras_model_sequential() %>%\n",
        "layer_dense(units = 16, activation = \"tanh\", input_shape = c(10000)) %>%\n",
        "layer_dense(units = 16, activation = \"tanh\") %>%\n",
        "layer_dense(units = 1, activation = \"sigmoid\")\n",
        "model %>% compile(\n",
        "optimizer = \"rmsprop\",\n",
        "loss = \"binary_crossentropy\",\n",
        "metrics = c(\"accuracy\")\n",
        ")\n",
        "model %>% fit(x_train, y_train, epochs = 4, batch_size = 512)\n",
        "results <- model %>% evaluate(x_test, y_test)\n",
        "results\n"
      ],
      "execution_count": 11,
      "outputs": [
        {
          "output_type": "display_data",
          "data": {
            "text/plain": [
              "     loss  accuracy \n",
              "0.3238472 0.8770400 "
            ],
            "text/latex": "\\begin{description*}\n\\item[loss] 0.32384717464447\n\\item[accuracy] 0.877040028572083\n\\end{description*}\n",
            "text/markdown": "loss\n:   0.32384717464447accuracy\n:   0.877040028572083\n\n",
            "text/html": [
              "<style>\n",
              ".dl-inline {width: auto; margin:0; padding: 0}\n",
              ".dl-inline>dt, .dl-inline>dd {float: none; width: auto; display: inline-block}\n",
              ".dl-inline>dt::after {content: \":\\0020\"; padding-right: .5ex}\n",
              ".dl-inline>dt:not(:first-of-type) {padding-left: .5ex}\n",
              "</style><dl class=dl-inline><dt>loss</dt><dd>0.32384717464447</dd><dt>accuracy</dt><dd>0.877040028572083</dd></dl>\n"
            ]
          },
          "metadata": {}
        }
      ]
    },
    {
      "cell_type": "code",
      "metadata": {
        "id": "L83FBHhUXN9M",
        "colab": {
          "base_uri": "https://localhost:8080/",
          "height": 34
        },
        "outputId": "367ecc5e-dd51-43d2-d428-d55c6354cd03"
      },
      "source": [
        "# Part 5. Any Technique\n",
        "# In an effort to minimize loss and maximize accuracy, I used the results to decide to use\n",
        "# a higher count of units, mse loss, and more layers\n",
        "model <- keras_model_sequential() %>%\n",
        "layer_dense(units = 64, activation = \"relu\", input_shape = c(10000)) %>%\n",
        "layer_dense(units = 64, activation = \"relu\", input_shape = c(10000)) %>%\n",
        "layer_dense(units = 64, activation = \"relu\") %>%\n",
        "layer_dense(units = 1, activation = \"sigmoid\")\n",
        "model %>% compile(\n",
        "optimizer = \"rmsprop\",\n",
        "loss = \"mse\",\n",
        "metrics = c(\"accuracy\")\n",
        ")\n",
        "\n",
        "\n",
        "model %>% fit(x_train, y_train, epochs = 4, batch_size = 512)\n",
        "results <- model %>% evaluate(x_test, y_test)\n",
        "results\n",
        "# The method successfully reduces loss, but it only slightly increases accuracy."
      ],
      "execution_count": 5,
      "outputs": [
        {
          "output_type": "display_data",
          "data": {
            "text/plain": [
              "     loss  accuracy \n",
              "0.1011689 0.8660800 "
            ],
            "text/latex": "\\begin{description*}\n\\item[loss] 0.101168863475323\n\\item[accuracy] 0.866079986095428\n\\end{description*}\n",
            "text/markdown": "loss\n:   0.101168863475323accuracy\n:   0.866079986095428\n\n",
            "text/html": [
              "<style>\n",
              ".dl-inline {width: auto; margin:0; padding: 0}\n",
              ".dl-inline>dt, .dl-inline>dd {float: none; width: auto; display: inline-block}\n",
              ".dl-inline>dt::after {content: \":\\0020\"; padding-right: .5ex}\n",
              ".dl-inline>dt:not(:first-of-type) {padding-left: .5ex}\n",
              "</style><dl class=dl-inline><dt>loss</dt><dd>0.101168863475323</dd><dt>accuracy</dt><dd>0.866079986095428</dd></dl>\n"
            ]
          },
          "metadata": {}
        }
      ]
    }
  ]
}